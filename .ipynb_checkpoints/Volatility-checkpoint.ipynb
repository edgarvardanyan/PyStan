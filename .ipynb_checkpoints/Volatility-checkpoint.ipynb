{
 "cells": [
  {
   "cell_type": "code",
   "execution_count": 1,
   "metadata": {},
   "outputs": [],
   "source": [
    "import pystan\n",
    "import numpy as np\n",
    "from matplotlib import pyplot as plt"
   ]
  },
  {
   "cell_type": "code",
   "execution_count": 2,
   "metadata": {},
   "outputs": [],
   "source": [
    "import pandas as pd"
   ]
  },
  {
   "cell_type": "code",
   "execution_count": 15,
   "metadata": {},
   "outputs": [],
   "source": [
    "data_pd = np.array(pd.read_csv(\"historical_returns.csv\").iloc[0][1:])"
   ]
  },
  {
   "cell_type": "code",
   "execution_count": null,
   "metadata": {},
   "outputs": [],
   "source": [
    "graph = \"\"\"\"\n",
    "data {\n",
    "    int<lower = 1> N;\n",
    "    real r_s[N];\n",
    "}\n",
    "parameters {\n",
    "    real sigmas_sq[N];\n",
    "    real b0;\n",
    "    real b1;\n",
    "    real w;\n",
    "    real beta;\n",
    "    real alpha;\n",
    "    real epsilon[N-1]\n",
    "}\n",
    "model {\n",
    "    sigmas[1] ~ normal(0,1000)\n",
    "    r_s[1] ~ normal(0,0.01)\n",
    "    for (i in 2:N){\n",
    "        epsilon[i-1] ~ normal(0,1)\n",
    "        r_s[i] ~ normal(b0 + b1 * r_s[i-1], sigmas_sq[i-1])\n",
    "        sigmas_sq[i] ~ normal(w + beta * sigmas_sq[i-1], sigmas_sq[i-1]**2)\n",
    "    }\n",
    "}\n",
    "\"\"\""
   ]
  }
 ],
 "metadata": {
  "kernelspec": {
   "display_name": "Python 3",
   "language": "python",
   "name": "python3"
  },
  "language_info": {
   "codemirror_mode": {
    "name": "ipython",
    "version": 3
   },
   "file_extension": ".py",
   "mimetype": "text/x-python",
   "name": "python",
   "nbconvert_exporter": "python",
   "pygments_lexer": "ipython3",
   "version": "3.6.4"
  }
 },
 "nbformat": 4,
 "nbformat_minor": 2
}
